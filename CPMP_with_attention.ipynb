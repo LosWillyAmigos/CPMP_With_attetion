{
 "cells": [
  {
   "cell_type": "markdown",
   "metadata": {},
   "source": [
    "# Librerías"
   ]
  },
  {
   "cell_type": "code",
   "execution_count": 1,
   "metadata": {},
   "outputs": [],
   "source": [
    "from attentional_cpmp.utils import load_data\n",
    "from attentional_cpmp.utils import load_data_mongo\n",
    "from attentional_cpmp.utils import connect_to_server\n",
    "from attentional_cpmp.model import load_cpmp_model\n",
    "from attentional_cpmp.model import create_model\n",
    "from attentional_cpmp.model import reinforcement_training\n",
    "from cpmp_ml.optimizer import GreedyV1\n",
    "from cpmp_ml.optimizer import GreedyV2\n",
    "from cpmp_ml.utils.adapters import AttentionModel\n",
    "from cpmp_ml.validations import validate_model\n",
    "from dotenv import load_dotenv\n",
    "from urllib.parse import quote_plus\n",
    "import os"
   ]
  },
  {
   "cell_type": "markdown",
   "metadata": {},
   "source": [
    "# Cargar Data"
   ]
  },
  {
   "cell_type": "code",
   "execution_count": 4,
   "metadata": {},
   "outputs": [],
   "source": [
    "load_dotenv()\n",
    "\n",
    "db_host = os.environ.get(\"DB_HOST\")\n",
    "db_user = os.environ.get(\"DB_USER\")\n",
    "db_password = os.environ.get(\"DB_PASSWORD\")\n",
    "db_name = os.environ.get(\"DB_NAME\")\n",
    "\n",
    "MONGO_URI_MODEL_V2 = f'mongodb://{quote_plus(db_user)}:{quote_plus(db_password)}@{db_host}/?authSource={db_name}'\n",
    "MONGO_URI_LOCAL = \"mongodb://localhost:27017/\""
   ]
  },
  {
   "cell_type": "markdown",
   "metadata": {},
   "source": [
    "## Local"
   ]
  },
  {
   "cell_type": "code",
   "execution_count": null,
   "metadata": {},
   "outputs": [],
   "source": [
    "data_5x5, labels_5x5 = load_data('Data_CPMP/Data_Model_v2/data_5x5_Multiple.csv')"
   ]
  },
  {
   "cell_type": "code",
   "execution_count": null,
   "metadata": {},
   "outputs": [],
   "source": [
    "data_7x7, labels_7x7 = load_data('data/data_7x7_Multiple.csv')"
   ]
  },
  {
   "cell_type": "markdown",
   "metadata": {},
   "source": [
    "## MongoDB"
   ]
  },
  {
   "cell_type": "markdown",
   "metadata": {},
   "source": [
    "### Modelo v2"
   ]
  },
  {
   "cell_type": "code",
   "execution_count": null,
   "metadata": {},
   "outputs": [],
   "source": [
    "client_v2 = connect_to_server(MONGO_URI_MODEL_V2)\n",
    "\n",
    "base_de_datos = client_v2.data_Model_v2\n",
    "data_5x5, labels_5x5 = load_data_mongo(base_de_datos.data_5x5)\n",
    "\n",
    "client_v2.close()"
   ]
  },
  {
   "cell_type": "code",
   "execution_count": null,
   "metadata": {},
   "outputs": [],
   "source": [
    "client_v2 = connect_to_server(MONGO_URI_MODEL_V2)\n",
    "\n",
    "base_de_datos = client_v2.data_Model_v2\n",
    "data_7x7, labels_7x7 = load_data_mongo(base_de_datos.data_7x7)\n",
    "\n",
    "client_v2.close()"
   ]
  },
  {
   "cell_type": "markdown",
   "metadata": {},
   "source": [
    "### Local"
   ]
  },
  {
   "cell_type": "code",
   "execution_count": 5,
   "metadata": {},
   "outputs": [
    {
     "name": "stdout",
     "output_type": "stream",
     "text": [
      "Conection Success\n"
     ]
    }
   ],
   "source": [
    "client_local = connect_to_server(MONGO_URI_MODEL_V2)\n",
    "\n",
    "base_de_datos = client_local['CPMP_With_Attention']\n",
    "data_Sx7 = load_data_mongo(base_de_datos[\"Sx7\"])\n",
    "\n",
    "client_local.close()"
   ]
  },
  {
   "cell_type": "markdown",
   "metadata": {},
   "source": [
    "# Cargar Modelos"
   ]
  },
  {
   "cell_type": "code",
   "execution_count": 4,
   "metadata": {},
   "outputs": [],
   "source": [
    "model_Sx7 = load_cpmp_model(\"./models/Sx7/model_Sx7.h5\")"
   ]
  },
  {
   "cell_type": "markdown",
   "metadata": {},
   "source": [
    "# Modelo Sx5"
   ]
  },
  {
   "cell_type": "code",
   "execution_count": 5,
   "metadata": {},
   "outputs": [],
   "source": [
    "model_Sx5 = create_model(5, 5, 'Adam', num_stacks= 3)"
   ]
  },
  {
   "cell_type": "markdown",
   "metadata": {},
   "source": [
    "## Entrenamiento"
   ]
  },
  {
   "cell_type": "code",
   "execution_count": 5,
   "metadata": {},
   "outputs": [
    {
     "name": "stdout",
     "output_type": "stream",
     "text": [
      "Epoch 1/50\n",
      "6222/6222 [==============================] - 80s 12ms/step - loss: 0.1439 - mae: 0.0866 - mse: 0.0429\n",
      "Epoch 2/50\n",
      "6222/6222 [==============================] - 75s 12ms/step - loss: 0.0968 - mae: 0.0573 - mse: 0.0287\n",
      "Epoch 3/50\n",
      "6222/6222 [==============================] - 75s 12ms/step - loss: 0.0877 - mae: 0.0516 - mse: 0.0258\n",
      "Epoch 4/50\n",
      "6222/6222 [==============================] - 74s 12ms/step - loss: 0.0822 - mae: 0.0483 - mse: 0.0241\n",
      "Epoch 5/50\n",
      "6222/6222 [==============================] - 75s 12ms/step - loss: 0.0778 - mae: 0.0457 - mse: 0.0228\n",
      "Epoch 6/50\n",
      "6222/6222 [==============================] - 74s 12ms/step - loss: 0.0744 - mae: 0.0438 - mse: 0.0218\n",
      "Epoch 7/50\n",
      "6222/6222 [==============================] - 75s 12ms/step - loss: 0.0720 - mae: 0.0425 - mse: 0.0212\n",
      "Epoch 8/50\n",
      "6222/6222 [==============================] - 81s 13ms/step - loss: 0.0703 - mae: 0.0416 - mse: 0.0207\n",
      "Epoch 9/50\n",
      "6222/6222 [==============================] - 76s 12ms/step - loss: 0.0690 - mae: 0.0409 - mse: 0.0204\n",
      "Epoch 10/50\n",
      "6222/6222 [==============================] - 76s 12ms/step - loss: 0.0679 - mae: 0.0403 - mse: 0.0201\n",
      "Epoch 11/50\n",
      "6222/6222 [==============================] - 74s 12ms/step - loss: 0.0669 - mae: 0.0398 - mse: 0.0198\n",
      "Epoch 12/50\n",
      "6222/6222 [==============================] - 76s 12ms/step - loss: 0.0661 - mae: 0.0393 - mse: 0.0195\n",
      "Epoch 13/50\n",
      "6222/6222 [==============================] - 75s 12ms/step - loss: 0.0652 - mae: 0.0388 - mse: 0.0193\n",
      "Epoch 14/50\n",
      "6222/6222 [==============================] - 77s 12ms/step - loss: 0.0645 - mae: 0.0383 - mse: 0.0191\n",
      "Epoch 15/50\n",
      "6222/6222 [==============================] - 76s 12ms/step - loss: 0.0638 - mae: 0.0379 - mse: 0.0189\n",
      "Epoch 16/50\n",
      "6222/6222 [==============================] - 76s 12ms/step - loss: 0.0630 - mae: 0.0374 - mse: 0.0186\n",
      "Epoch 17/50\n",
      "6222/6222 [==============================] - 75s 12ms/step - loss: 0.0624 - mae: 0.0370 - mse: 0.0184\n",
      "Epoch 18/50\n",
      "6222/6222 [==============================] - 81s 13ms/step - loss: 0.0618 - mae: 0.0366 - mse: 0.0182\n",
      "Epoch 19/50\n",
      "6222/6222 [==============================] - 80s 13ms/step - loss: 0.0609 - mae: 0.0361 - mse: 0.0180\n",
      "Epoch 20/50\n",
      "6222/6222 [==============================] - 82s 13ms/step - loss: 0.0604 - mae: 0.0358 - mse: 0.0178\n",
      "Epoch 21/50\n",
      "6222/6222 [==============================] - 76s 12ms/step - loss: 0.0598 - mae: 0.0354 - mse: 0.0176\n",
      "Epoch 22/50\n",
      "6222/6222 [==============================] - 75s 12ms/step - loss: 0.0575 - mae: 0.0338 - mse: 0.0168\n",
      "Epoch 23/50\n",
      "6222/6222 [==============================] - 76s 12ms/step - loss: 0.0558 - mae: 0.0325 - mse: 0.0162\n",
      "Epoch 24/50\n",
      "6222/6222 [==============================] - 78s 13ms/step - loss: 0.0548 - mae: 0.0318 - mse: 0.0158\n",
      "Epoch 25/50\n",
      "6222/6222 [==============================] - 77s 12ms/step - loss: 0.0541 - mae: 0.0314 - mse: 0.0156\n",
      "Epoch 26/50\n",
      "6222/6222 [==============================] - 75s 12ms/step - loss: 0.0536 - mae: 0.0312 - mse: 0.0155\n",
      "Epoch 27/50\n",
      "6222/6222 [==============================] - 75s 12ms/step - loss: 0.0531 - mae: 0.0308 - mse: 0.0153\n",
      "Epoch 28/50\n",
      "6222/6222 [==============================] - 78s 13ms/step - loss: 0.0527 - mae: 0.0306 - mse: 0.0152\n",
      "Epoch 29/50\n",
      "6222/6222 [==============================] - 78s 13ms/step - loss: 0.0522 - mae: 0.0303 - mse: 0.0151\n",
      "Epoch 30/50\n",
      "6222/6222 [==============================] - 78s 13ms/step - loss: 0.0521 - mae: 0.0302 - mse: 0.0150\n",
      "Epoch 31/50\n",
      "6222/6222 [==============================] - 77s 12ms/step - loss: 0.0517 - mae: 0.0300 - mse: 0.0149\n",
      "Epoch 32/50\n",
      "6222/6222 [==============================] - 76s 12ms/step - loss: 0.0513 - mae: 0.0298 - mse: 0.0148\n",
      "Epoch 33/50\n",
      "6222/6222 [==============================] - 76s 12ms/step - loss: 0.0512 - mae: 0.0297 - mse: 0.0148\n",
      "Epoch 34/50\n",
      "6222/6222 [==============================] - 77s 12ms/step - loss: 0.0510 - mae: 0.0296 - mse: 0.0147\n",
      "Epoch 35/50\n",
      "6222/6222 [==============================] - 77s 12ms/step - loss: 0.0505 - mae: 0.0293 - mse: 0.0146\n",
      "Epoch 36/50\n",
      "6222/6222 [==============================] - 77s 12ms/step - loss: 0.0505 - mae: 0.0293 - mse: 0.0146\n",
      "Epoch 37/50\n",
      "6222/6222 [==============================] - 77s 12ms/step - loss: 0.0502 - mae: 0.0291 - mse: 0.0145\n",
      "Epoch 38/50\n",
      "6222/6222 [==============================] - 78s 13ms/step - loss: 0.0499 - mae: 0.0290 - mse: 0.0144\n",
      "Epoch 39/50\n",
      "6222/6222 [==============================] - 78s 12ms/step - loss: 0.0497 - mae: 0.0289 - mse: 0.0144\n",
      "Epoch 40/50\n",
      "6222/6222 [==============================] - 79s 13ms/step - loss: 0.0493 - mae: 0.0286 - mse: 0.0143\n",
      "Epoch 41/50\n",
      "6222/6222 [==============================] - 83s 13ms/step - loss: 0.0494 - mae: 0.0287 - mse: 0.0143\n",
      "Epoch 42/50\n",
      "6222/6222 [==============================] - 83s 13ms/step - loss: 0.0492 - mae: 0.0286 - mse: 0.0142\n",
      "Epoch 43/50\n",
      "6222/6222 [==============================] - 87s 14ms/step - loss: 0.0490 - mae: 0.0284 - mse: 0.0142\n",
      "Epoch 44/50\n",
      "6222/6222 [==============================] - 75s 12ms/step - loss: 0.0489 - mae: 0.0284 - mse: 0.0141\n",
      "Epoch 45/50\n",
      "6222/6222 [==============================] - 76s 12ms/step - loss: 0.0487 - mae: 0.0283 - mse: 0.0141\n",
      "Epoch 46/50\n",
      "6222/6222 [==============================] - 76s 12ms/step - loss: 0.0485 - mae: 0.0282 - mse: 0.0140\n",
      "Epoch 47/50\n",
      "6222/6222 [==============================] - 569s 91ms/step - loss: 0.0484 - mae: 0.0281 - mse: 0.0140\n",
      "Epoch 48/50\n",
      "6222/6222 [==============================] - 76s 12ms/step - loss: 0.0484 - mae: 0.0281 - mse: 0.0140\n",
      "Epoch 49/50\n",
      "6222/6222 [==============================] - 78s 13ms/step - loss: 0.0482 - mae: 0.0280 - mse: 0.0139\n",
      "Epoch 50/50\n",
      "6222/6222 [==============================] - 82s 13ms/step - loss: 0.0481 - mae: 0.0279 - mse: 0.0139\n"
     ]
    }
   ],
   "source": [
    "for stack in data_5x5:\n",
    "    model_Sx5.fit(data_5x5[stack][\"States\"], data_5x5[stack][\"Labels\"], batch_size= 32, epochs= 50)"
   ]
  },
  {
   "cell_type": "markdown",
   "metadata": {},
   "source": [
    "## Testing"
   ]
  },
  {
   "cell_type": "code",
   "execution_count": 6,
   "metadata": {},
   "outputs": [
    {
     "name": "stdout",
     "output_type": "stream",
     "text": [
      "success heuristic (%): 6.0 6.35\n",
      "mean steps: 6.35\n",
      "median steps: 6.0\n",
      "min steps: 1.0\n",
      "max steps: 10.0\n",
      "\n"
     ]
    },
    {
     "data": {
      "text/plain": [
       "(0.0, 6.0)"
      ]
     },
     "execution_count": 6,
     "metadata": {},
     "output_type": "execute_result"
    }
   ],
   "source": [
    "validate_model(model_Sx5, GreedyV1(), AttentionModel(), 5, 5, 15, size_states= 1000, max_steps= 30)"
   ]
  },
  {
   "cell_type": "code",
   "execution_count": 7,
   "metadata": {},
   "outputs": [
    {
     "name": "stdout",
     "output_type": "stream",
     "text": [
      "success ann model (%): 0.1\n",
      "mean steps: 0.0\n",
      "median steps: 0.0\n",
      "min steps: 0.0\n",
      "max steps: 0.0\n",
      "\n",
      "success heuristic (%): 100.0 12.286\n",
      "mean steps: 12.286\n",
      "median steps: 12.0\n",
      "min steps: 0.0\n",
      "max steps: 27.0\n",
      "\n"
     ]
    },
    {
     "data": {
      "text/plain": [
       "(0.1, 100.0)"
      ]
     },
     "execution_count": 7,
     "metadata": {},
     "output_type": "execute_result"
    }
   ],
   "source": [
    "validate_model(model_Sx5, GreedyV2(), AttentionModel(), 5, 5, 15, size_states= 1000, max_steps= 30)"
   ]
  },
  {
   "cell_type": "code",
   "execution_count": null,
   "metadata": {},
   "outputs": [],
   "source": [
    "model_Sx5.save(\"./models/model_Sx5.h5\")"
   ]
  },
  {
   "cell_type": "markdown",
   "metadata": {},
   "source": [
    "## Model Sx7"
   ]
  },
  {
   "cell_type": "code",
   "execution_count": 6,
   "metadata": {},
   "outputs": [
    {
     "name": "stdout",
     "output_type": "stream",
     "text": [
      "WARNING:tensorflow:From c:\\Users\\matia\\Desktop\\Workspace\\CPMP_With_attention\\.venv\\Lib\\site-packages\\keras\\src\\backend\\tensorflow\\core.py:222: The name tf.placeholder is deprecated. Please use tf.compat.v1.placeholder instead.\n",
      "\n"
     ]
    },
    {
     "name": "stderr",
     "output_type": "stream",
     "text": [
      "c:\\Users\\matia\\Desktop\\Workspace\\CPMP_With_attention\\.venv\\Lib\\site-packages\\keras\\src\\layers\\core\\dense.py:87: UserWarning: Do not pass an `input_shape`/`input_dim` argument to a layer. When using Sequential models, prefer using an `Input(shape)` object as the first layer in the model instead.\n",
      "  super().__init__(activity_regularizer=activity_regularizer, **kwargs)\n"
     ]
    }
   ],
   "source": [
    "model_Sx7 = create_model(num_heads= 5, key_dim= 8, H= 7, num_stacks= 7)"
   ]
  },
  {
   "cell_type": "markdown",
   "metadata": {},
   "source": [
    "### Entrenamiento"
   ]
  },
  {
   "cell_type": "code",
   "execution_count": null,
   "metadata": {},
   "outputs": [],
   "source": [
    "for stack in data_Sx7:\n",
    "    model_Sx7.fit(data_Sx7[stack][\"States\"], data_Sx7[stack][\"Labels\"], batch_size= 32, epochs= 10)"
   ]
  },
  {
   "cell_type": "code",
   "execution_count": 10,
   "metadata": {},
   "outputs": [
    {
     "name": "stderr",
     "output_type": "stream",
     "text": [
      "/Users/slinking/Desktop/Workspace/CPMP_With_attention/.venv/lib/python3.11/site-packages/keras/src/engine/training.py:3103: UserWarning: You are saving your model as an HDF5 file via `model.save()`. This file format is considered legacy. We recommend using instead the native Keras format, e.g. `model.save('my_model.keras')`.\n",
      "  saving_api.save_model(\n"
     ]
    }
   ],
   "source": [
    "model_Sx7.save(\"./models/Sx7/model_Sx7.h5\")"
   ]
  },
  {
   "cell_type": "code",
   "execution_count": null,
   "metadata": {},
   "outputs": [],
   "source": [
    "validate_model(model_Sx7, GreedyV2(), AttentionModel(), 10, 7, 50, 1000, max_steps= 100)"
   ]
  },
  {
   "cell_type": "markdown",
   "metadata": {},
   "source": [
    "# Reinforcement Learning"
   ]
  },
  {
   "cell_type": "code",
   "execution_count": null,
   "metadata": {},
   "outputs": [],
   "source": [
    "reinforcement_training(model_Sx5, 5, 5, 15, GreedyV2(), AttentionModel(), iter= 2, max_steps= 30, epochs= 10, batch_size= 50)"
   ]
  }
 ],
 "metadata": {
  "kernelspec": {
   "display_name": ".venv",
   "language": "python",
   "name": "python3"
  },
  "language_info": {
   "codemirror_mode": {
    "name": "ipython",
    "version": 3
   },
   "file_extension": ".py",
   "mimetype": "text/x-python",
   "name": "python",
   "nbconvert_exporter": "python",
   "pygments_lexer": "ipython3",
   "version": "3.11.9"
  }
 },
 "nbformat": 4,
 "nbformat_minor": 2
}
